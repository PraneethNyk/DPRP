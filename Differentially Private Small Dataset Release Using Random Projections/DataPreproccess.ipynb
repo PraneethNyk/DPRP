{
 "cells": [
  {
   "cell_type": "code",
   "execution_count": 1,
   "metadata": {},
   "outputs": [],
   "source": [
    "import pandas as pd "
   ]
  },
  {
   "cell_type": "code",
   "execution_count": 2,
   "metadata": {},
   "outputs": [
    {
     "name": "stdout",
     "output_type": "stream",
     "text": [
      "<class 'pandas.core.frame.DataFrame'>\n",
      "RangeIndex: 583 entries, 0 to 582\n",
      "Data columns (total 11 columns):\n",
      " #   Column            Non-Null Count  Dtype  \n",
      "---  ------            --------------  -----  \n",
      " 0   age               583 non-null    int64  \n",
      " 1   gender            583 non-null    object \n",
      " 2   tot_bilirubin     583 non-null    float64\n",
      " 3   direct_bilirubin  583 non-null    float64\n",
      " 4   tot_proteins      583 non-null    int64  \n",
      " 5   albumin           583 non-null    int64  \n",
      " 6   ag_ratio          583 non-null    int64  \n",
      " 7   sgpt              583 non-null    float64\n",
      " 8   sgot              583 non-null    float64\n",
      " 9   alkphos           583 non-null    float64\n",
      " 10  is_patient        583 non-null    int64  \n",
      "dtypes: float64(5), int64(5), object(1)\n",
      "memory usage: 50.2+ KB\n"
     ]
    }
   ],
   "source": [
    "data_raw=pd.read_csv('datasets/Indian Liver Patient Dataset (ILPD).csv')\n",
    "data_raw.info()"
   ]
  },
  {
   "cell_type": "code",
   "execution_count": 3,
   "metadata": {},
   "outputs": [],
   "source": [
    "data1=pd.get_dummies(data_raw, columns=[\"gender\"])\n",
    "#print(data1.head)\n",
    "\n",
    "data1.to_csv('datasets/after_preproccessing.csv')"
   ]
  },
  {
   "cell_type": "code",
   "execution_count": 4,
   "metadata": {},
   "outputs": [
    {
     "name": "stdout",
     "output_type": "stream",
     "text": [
      "<class 'pandas.core.frame.DataFrame'>\n",
      "RangeIndex: 583 entries, 0 to 582\n",
      "Data columns (total 12 columns):\n",
      " #   Column            Non-Null Count  Dtype  \n",
      "---  ------            --------------  -----  \n",
      " 0   age               583 non-null    int64  \n",
      " 1   tot_bilirubin     583 non-null    float64\n",
      " 2   direct_bilirubin  583 non-null    float64\n",
      " 3   tot_proteins      583 non-null    int64  \n",
      " 4   albumin           583 non-null    int64  \n",
      " 5   ag_ratio          583 non-null    int64  \n",
      " 6   sgpt              583 non-null    float64\n",
      " 7   sgot              583 non-null    float64\n",
      " 8   alkphos           583 non-null    float64\n",
      " 9   is_patient        583 non-null    int64  \n",
      " 10  gender_Female     583 non-null    uint8  \n",
      " 11  gender_Male       583 non-null    uint8  \n",
      "dtypes: float64(5), int64(5), uint8(2)\n",
      "memory usage: 46.8 KB\n"
     ]
    }
   ],
   "source": [
    "data1.info()"
   ]
  },
  {
   "cell_type": "code",
   "execution_count": 5,
   "metadata": {},
   "outputs": [
    {
     "name": "stdout",
     "output_type": "stream",
     "text": [
      "<class 'pandas.core.frame.DataFrame'>\n",
      "RangeIndex: 582 entries, 0 to 581\n",
      "Data columns (total 11 columns):\n",
      " #   Column            Non-Null Count  Dtype  \n",
      "---  ------            --------------  -----  \n",
      " 0   age               582 non-null    int64  \n",
      " 1   gender            582 non-null    object \n",
      " 2   tot_bilirubin     582 non-null    float64\n",
      " 3   direct_bilirubin  582 non-null    float64\n",
      " 4   tot_proteins      582 non-null    int64  \n",
      " 5   albumin           582 non-null    int64  \n",
      " 6   ag_ratio          582 non-null    int64  \n",
      " 7   sgpt              582 non-null    float64\n",
      " 8   sgot              582 non-null    float64\n",
      " 9   alkphos           582 non-null    float64\n",
      " 10  is_patient        582 non-null    int64  \n",
      "dtypes: float64(5), int64(5), object(1)\n",
      "memory usage: 50.1+ KB\n"
     ]
    }
   ],
   "source": [
    "data_raw=pd.read_csv('datasets/Indian Liver Patient Dataset 1 row.csv')\n",
    "data_raw.info()\n",
    "data1=pd.get_dummies(data_raw, columns=[\"gender\"])\n",
    "#print(data1.head)\n",
    "\n",
    "data1.to_csv('datasets/after_preproccessing2.csv')"
   ]
  },
  {
   "cell_type": "code",
   "execution_count": 7,
   "metadata": {},
   "outputs": [
    {
     "name": "stdout",
     "output_type": "stream",
     "text": [
      "<class 'pandas.core.frame.DataFrame'>\n",
      "RangeIndex: 583 entries, 0 to 582\n",
      "Data columns (total 11 columns):\n",
      " #   Column            Non-Null Count  Dtype  \n",
      "---  ------            --------------  -----  \n",
      " 0   age               583 non-null    int64  \n",
      " 1   gender            583 non-null    object \n",
      " 2   tot_bilirubin     583 non-null    float64\n",
      " 3   direct_bilirubin  583 non-null    float64\n",
      " 4   tot_proteins      583 non-null    int64  \n",
      " 5   albumin           583 non-null    int64  \n",
      " 6   ag_ratio          583 non-null    int64  \n",
      " 7   sgpt              583 non-null    float64\n",
      " 8   sgot              583 non-null    float64\n",
      " 9   alkphos           583 non-null    float64\n",
      " 10  is_patient        583 non-null    int64  \n",
      "dtypes: float64(5), int64(5), object(1)\n",
      "memory usage: 50.2+ KB\n"
     ]
    }
   ],
   "source": [
    "data_raw=pd.read_csv('datasets/Indian Liver Patient Dataset 1 row modified.csv')\n",
    "data_raw.info()\n",
    "data1=pd.get_dummies(data_raw, columns=[\"gender\"])\n",
    "#print(data1.head)\n",
    "\n",
    "data1.to_csv('datasets/after_preproccessing3.csv')"
   ]
  }
 ],
 "metadata": {
  "kernelspec": {
   "display_name": "py10",
   "language": "python",
   "name": "python3"
  },
  "language_info": {
   "codemirror_mode": {
    "name": "ipython",
    "version": 3
   },
   "file_extension": ".py",
   "mimetype": "text/x-python",
   "name": "python",
   "nbconvert_exporter": "python",
   "pygments_lexer": "ipython3",
   "version": "3.10.9"
  },
  "orig_nbformat": 4
 },
 "nbformat": 4,
 "nbformat_minor": 2
}
